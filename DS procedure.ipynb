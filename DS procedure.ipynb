{
 "cells": [
  {
   "cell_type": "markdown",
   "id": "1f25d91d",
   "metadata": {},
   "source": [
    "- Step1: Read the Data\n",
    "- Step2: Feature engineering\n",
    "    - You perform all the EDA\n",
    "    - All the columns should be converted to Numerical\n",
    "- Step3: Feature Selection\n",
    "    - Select the Important Features.\n",
    "    - 1)p-value (LR)\n",
    "    - 2)VIF  (LR)\n",
    "    - 3) Highest Correlation with target (Classsification)\n",
    "    - 4) Variance Threshold  \n",
    "    - 5) Mutual info classify\n",
    "           Select K best\n",
    "\n",
    "- Step-4:  Divide X and y\n",
    "\n",
    "- Step-5:  X_train,y_train,x_test,y_test=traintestsplit()\n",
    "\n",
    "- Step-6: Model development\n",
    "        - from sklearn.linearmodel import LR\n",
    "\n",
    "- Step-7:  Predictions\n",
    "        -  LR.predict(X_test)  Batch predictions\n",
    "         - LR.predict([11])    Real or endpoint\n",
    "\n",
    "- Step-8:  Evaluation\n",
    "         - MSE  RMSE  Rsquare\n",
    "- Step-9: Coefficients\n",
    "    \n",
    "    \n",
    "- We maynot be happy with model performance evan after selecting some features.\n",
    "- Then again build the model by applying the Standardization, Mormalization(LR/DC), PCA\n",
    "- PCA : If we dont want to drop features,  but we should Multicollinearity, consider PCA\n"
   ]
  },
  {
   "cell_type": "code",
   "execution_count": null,
   "id": "30b9a101",
   "metadata": {},
   "outputs": [],
   "source": []
  }
 ],
 "metadata": {
  "kernelspec": {
   "display_name": "Python 3 (ipykernel)",
   "language": "python",
   "name": "python3"
  },
  "language_info": {
   "codemirror_mode": {
    "name": "ipython",
    "version": 3
   },
   "file_extension": ".py",
   "mimetype": "text/x-python",
   "name": "python",
   "nbconvert_exporter": "python",
   "pygments_lexer": "ipython3",
   "version": "3.11.5"
  }
 },
 "nbformat": 4,
 "nbformat_minor": 5
}
