{
 "cells": [
  {
   "cell_type": "markdown",
   "id": "4be88c5c",
   "metadata": {},
   "source": [
    "**Feature Selection**\n",
    "- 1) Dropping the constant features (Regression and Classification\n",
    "- 2) Information gain(Classification)\n",
    "- 3) p-value (Regression)\n",
    "- 4) VIF (Regression)\n",
    "- 5) Forward selection and backward selection (Regression and classification)\n",
    "- 6) Correlation with target column (Regression and classification)"
   ]
  },
  {
   "cell_type": "code",
   "execution_count": null,
   "id": "12b62e97",
   "metadata": {},
   "outputs": [],
   "source": []
  }
 ],
 "metadata": {
  "kernelspec": {
   "display_name": "Python 3 (ipykernel)",
   "language": "python",
   "name": "python3"
  },
  "language_info": {
   "codemirror_mode": {
    "name": "ipython",
    "version": 3
   },
   "file_extension": ".py",
   "mimetype": "text/x-python",
   "name": "python",
   "nbconvert_exporter": "python",
   "pygments_lexer": "ipython3",
   "version": "3.11.5"
  }
 },
 "nbformat": 4,
 "nbformat_minor": 5
}
